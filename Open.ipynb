{
 "metadata": {
  "name": ""
 },
 "nbformat": 3,
 "nbformat_minor": 0,
 "worksheets": [
  {
   "cells": [
    {
     "cell_type": "heading",
     "level": 1,
     "metadata": {},
     "source": [
      "Attribute: Open"
     ]
    },
    {
     "cell_type": "code",
     "collapsed": false,
     "input": [
      "from IPython.display import display, Image, HTML\n",
      "from talktools import website, nbviewer"
     ],
     "language": "python",
     "metadata": {},
     "outputs": [],
     "prompt_number": 1
    },
    {
     "cell_type": "heading",
     "level": 2,
     "metadata": {},
     "source": [
      "Overview"
     ]
    },
    {
     "cell_type": "markdown",
     "metadata": {},
     "source": [
      "Openness is built into the project at a deep level. This attribute builds a dedicated and invested community of users and developers that have good feelings about the project. Openness also builds trust, accountabilty and integrity. It blurs the line betweeen users and developers by providing a single community that spans all project activities."
     ]
    },
    {
     "cell_type": "heading",
     "level": 2,
     "metadata": {},
     "source": [
      "Open source"
     ]
    },
    {
     "cell_type": "markdown",
     "metadata": {},
     "source": [
      "The IPython source code is released under the terms of the BSD license. This license allows any individual or legal entity to use the software, without restrictions, for any purpose, commercial or otherwise. Companies are building commercial products based on IPython:\n",
      "\n",
      "* [Wakari](https://www.wakari.io/) by Continuum Analytics\n",
      "* [Anaconda](https://store.continuum.io/cshop/anaconda/) by Continuum Analytics\n",
      "* [Canopy](https://www.enthought.com/products/canopy/) by Enthought\n",
      "* [PiCloud](http://www.picloud.com/)\n",
      "\n",
      "A wide range of open-source projects and scientific collaborations also build on top of IPython.\n",
      "\n",
      "Other open-source licenses, such as the GPL are more restrictive and would not allow for this extended ecosystem to grow and flourish."
     ]
    },
    {
     "cell_type": "heading",
     "level": 2,
     "metadata": {},
     "source": [
      "Open process"
     ]
    },
    {
     "cell_type": "markdown",
     "metadata": {},
     "source": [
      "The entire development process of IPython is carried out in the open:\n",
      "\n",
      "* All contributions undergo public code review using GitHub Pull Requests.\n",
      "* All Issues are reported and discussed publicly through GitHub.\n",
      "* All real time discussions are done using public [HipChat](http://www.hipchat.com) rooms (nice, web-based IRC chat).\n",
      "* We maintain a public [Roadmap](https://github.com/ipython/ipython/wiki/Roadmap:-IPython) that describes where the project is headed.\n",
      "* We hold weekly \"lab meetings\" on Google Hangouts to discuss the project with core developers, users and guests. The minutes and agenda for these meetings are maintained on a [public Hackpad](https://hackpad.com/IPython-dev-meetings-6wTSjJt7TZK). These meetings are broadcast publicly and recorded.\n",
      "\n",
      "We have found that an open process doesn't happen automatically:\n",
      "\n",
      "* It is really tempting for developers, especially those in close physical proximity, to rely on private discussions.\n",
      "* We try to minimize these private discussions as much as possible, but they do still happen.\n",
      "* We always try to post the results of private discussions on our mailing lists or GitHub."
     ]
    },
    {
     "cell_type": "heading",
     "level": 2,
     "metadata": {},
     "source": [
      "Open standards"
     ]
    },
    {
     "cell_type": "markdown",
     "metadata": {},
     "source": [
      "It is really easy, and sometimes tempting, to invent your own:\n",
      "\n",
      "* Serialization format\n",
      "* Domain specific language\n",
      "* Network protocols\n",
      "* Document formats\n",
      "\n",
      "As much as possible, we try to use established, open standards:\n",
      "\n",
      "* Notebooks documents are just JSON data and can be read in any language with a JSON parser.\n",
      "* The actual data stored in the JSON document is also in open standards (HTML, Markdown, PNG, JPEG).\n",
      "* The Notebook is styled using CSS\n",
      "* Our message architecture is built on top of JSON, ZeroMQ and WebSockets.\n",
      "\n",
      "In a few cases we have had to invent our own standards on top of these base standards:\n",
      "\n",
      "* Notebook format (how exactly we store data in the JSON).\n",
      "* Kernel [message architecture](http://ipython.org/ipython-doc/stable/development/messaging.html).\n",
      "\n",
      "We are attempting to make these standards documented, tested, versioned, etc. The broad adoption of the IPython Notebook by other language communities would not be possible without this openness."
     ]
    },
    {
     "cell_type": "heading",
     "level": 2,
     "metadata": {},
     "source": [
      "Styling"
     ]
    },
    {
     "cell_type": "code",
     "collapsed": false,
     "input": [
      "%load_ext load_style"
     ],
     "language": "python",
     "metadata": {},
     "outputs": [],
     "prompt_number": 2
    },
    {
     "cell_type": "code",
     "collapsed": false,
     "input": [
      "%load_style talk.css"
     ],
     "language": "python",
     "metadata": {},
     "outputs": [
      {
       "html": [
        "<style>\n",
        "\n",
        ".rendered_html {\n",
        "    font-family: \"proxima-nova\", helvetica;\n",
        "    font-size: 150%;\n",
        "    line-height: 1.5;\n",
        "}\n",
        "\n",
        ".rendered_html h1 {\n",
        "    margin: 0.25em 0em 0.5em;\n",
        "    color: #015C9C;\n",
        "    text-align: center;\n",
        "    line-height: 1.2; \n",
        "    page-break-before: always;\n",
        "}\n",
        "\n",
        ".rendered_html h2 {\n",
        "    margin: 1.1em 0em 0.5em;\n",
        "    color: #26465D;\n",
        "    line-height: 1.2;\n",
        "}\n",
        "\n",
        ".rendered_html h3 {\n",
        "    margin: 1.1em 0em 0.5em;\n",
        "    color: #002845;\n",
        "    line-height: 1.2;\n",
        "}\n",
        "\n",
        ".rendered_html li {\n",
        "    line-height: 1.5; \n",
        "}\n",
        "\n",
        "/*.prompt {\n",
        "    font-size: 120%; \n",
        "}*/\n",
        "\n",
        ".CodeMirror-lines {\n",
        "    font-size: 120%; \n",
        "}\n",
        "\n",
        "/*.output_area {\n",
        "    font-size: 120%; \n",
        "}*/\n",
        "\n",
        "#notebook {\n",
        "    background-image: url('files/images/witewall_3.png');\n",
        "}\n",
        "\n",
        "h1.bigtitle {\n",
        "    margin: 4cm 1cm 4cm 1cm;\n",
        "    font-size: 300%;\n",
        "}\n",
        "\n",
        "h3.point {\n",
        "    font-size: 200%;\n",
        "    text-align: center;\n",
        "    margin: 2em 0em 2em 0em;\n",
        "    #26465D\n",
        "}\n",
        "\n",
        ".logo {\n",
        "    margin: 20px 0 20px 0;\n",
        "}\n",
        "\n",
        "a.anchor-link {\n",
        "    display: none;\n",
        "}\n",
        "\n",
        "h1.title { \n",
        "    font-size: 250%;\n",
        "}\n",
        "\n",
        "</style>"
       ],
       "metadata": {},
       "output_type": "display_data",
       "text": [
        "<IPython.core.display.HTML at 0x106730310>"
       ]
      }
     ],
     "prompt_number": 3
    }
   ],
   "metadata": {}
  }
 ]
}